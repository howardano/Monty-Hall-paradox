{
 "cells": [
  {
   "cell_type": "code",
   "execution_count": 3,
   "metadata": {},
   "outputs": [],
   "source": [
    "import numpy as np\n",
    "import random"
   ]
  },
  {
   "cell_type": "markdown",
   "metadata": {},
   "source": [
    "# Парадокс Монти Холла"
   ]
  },
  {
   "cell_type": "markdown",
   "metadata": {},
   "source": [
    "**Задача**. Проверить, действительно ли изменение выбора в задаче Монти Холла приводит к большему количеству выигрышей. \n",
    "\n",
    "Правила игры следующие: имеются 3 двери. Лишь за одной из дверей находится \"хороший\" приз, и, соответственно, за двумя другими находится \"плохой\" приз. После выбора двери игроком, ведущий откроет дверь, не являющуюся выигрышной, а также не являющуся дверью, которой выбрал игрок. Наша задача заключается в максимизации выигрышей в серии независимых экспериментов."
   ]
  },
  {
   "cell_type": "code",
   "execution_count": 88,
   "metadata": {},
   "outputs": [],
   "source": [
    "n = 100000 # number of experiments\n",
    "victories_1 = 0 # number of victories in the first experiment\n",
    "victories_2 = 0 # number of victories in the second experiment \n",
    "victories_3 = 0 # number of victories in the third experiment"
   ]
  },
  {
   "cell_type": "markdown",
   "metadata": {},
   "source": [
    "Итак, первым делом необходимо реализовать вспомогательные методы для выбора необходимых дверей.\n",
    "\n",
    "Выбрать дверь, за которой находится \"плохой\" приз (find_not_victorious_door) и изменить выбор двери (выбираем оставшуюся после открытия третьей двери дверь) (switch_choice).\n"
   ]
  },
  {
   "cell_type": "code",
   "execution_count": 89,
   "metadata": {},
   "outputs": [],
   "source": [
    "def find_not_victorious_door(vict_ind, choice):\n",
    "    if(vict_ind == 0 and choice == 0):\n",
    "        return np.random.choice([1, 2])\n",
    "    if(vict_ind == 0 and choice == 1):\n",
    "        return 2\n",
    "    if(vict_ind == 0 and choice == 2):\n",
    "        return 1\n",
    "    if(vict_ind == 1 and choice == 0):\n",
    "        return 2\n",
    "    if(vict_ind == 1 and choice == 1):\n",
    "        return np.random.choice([0, 2])\n",
    "    if(vict_ind == 1 and choice == 2):\n",
    "        return 0\n",
    "    if(vict_ind == 2 and choice == 0):\n",
    "        return 1\n",
    "    if(vict_ind == 2 and choice == 1):\n",
    "        return 0\n",
    "    if(vict_ind == 2 and choice == 2):\n",
    "        return np.random.choice([0, 1])\n",
    "    \n",
    "def switch_choice(choice):\n",
    "    for door in doors:\n",
    "        if(door != choice):\n",
    "            return door"
   ]
  },
  {
   "cell_type": "markdown",
   "metadata": {},
   "source": [
    "Задача Монти Холла предполагает, что первоначальный выбор \"плохой\" двери вследствие т.н. замены переменной даст вероятность выигрыша в 66% (замена переменной предполагает, что теперь нашей целью становится выбрать \"плохую\" дверь, т.е. шанс добиться цели - 2/3). Когда ведущий открывает оставшуюся дверь с \"плохим\" призом, мы возвращаемся к изначальной цели \"выбрать лучшую дверь\", меняя выбор двери на противоположный (на ту дверь, что осталась)."
   ]
  },
  {
   "cell_type": "code",
   "execution_count": 90,
   "metadata": {},
   "outputs": [
    {
     "name": "stdout",
     "output_type": "stream",
     "text": [
      "Wall time: 16.6 s\n"
     ]
    }
   ],
   "source": [
    "%%time\n",
    "for i in range(n):\n",
    "    doors = np.arange(3) # doors\n",
    "    vict_ind = np.random.randint(3)\n",
    "    choice = np.random.randint(3)\n",
    "    doors  = np.delete(doors, find_not_victorious_door(vict_ind, choice))\n",
    "    choice = switch_choice(choice)\n",
    "    if(choice == vict_ind):\n",
    "        victories_1 += 1\n",
    "        \n",
    "for i in range(n):\n",
    "    doors = np.arange(3) # doors\n",
    "    vict_ind = np.random.randint(3)\n",
    "    choice = np.random.randint(3)\n",
    "    doors  = np.delete(doors, find_not_victorious_door(vict_ind, choice))\n",
    "    choice = switch_choice(choice)\n",
    "    if(choice == vict_ind):\n",
    "        victories_2 += 1\n",
    "\n",
    "for i in range(n):\n",
    "    doors = np.arange(3) # doors\n",
    "    vict_ind = np.random.randint(3)\n",
    "    choice = np.random.randint(3)\n",
    "    doors  = np.delete(doors, find_not_victorious_door(vict_ind, choice))\n",
    "    choice = switch_choice(choice)\n",
    "    if(choice == vict_ind):\n",
    "        victories_3 += 1"
   ]
  },
  {
   "cell_type": "code",
   "execution_count": 91,
   "metadata": {},
   "outputs": [
    {
     "name": "stdout",
     "output_type": "stream",
     "text": [
      "Expirement No. 1:  0.66732 \n",
      "\n",
      "Expirement No. 2:  0.66716 \n",
      "\n",
      "Expirement No. 3:  0.67058\n"
     ]
    }
   ],
   "source": [
    "print(\"Expirement No. 1: \", wins_1 / n, \"\\n\\nExpirement No. 2: \", wins_2 / n, \"\\n\\nExpirement No. 3: \", wins_3 / n)"
   ]
  },
  {
   "cell_type": "markdown",
   "metadata": {},
   "source": [
    "Как мы видим, действительно, замена цели в данной игре на первом ее шаге повышает шанс победы на лишних 33%."
   ]
  }
 ],
 "metadata": {
  "kernelspec": {
   "display_name": "Python 3",
   "language": "python",
   "name": "python3"
  },
  "language_info": {
   "codemirror_mode": {
    "name": "ipython",
    "version": 3
   },
   "file_extension": ".py",
   "mimetype": "text/x-python",
   "name": "python",
   "nbconvert_exporter": "python",
   "pygments_lexer": "ipython3",
   "version": "3.8.3"
  }
 },
 "nbformat": 4,
 "nbformat_minor": 4
}
